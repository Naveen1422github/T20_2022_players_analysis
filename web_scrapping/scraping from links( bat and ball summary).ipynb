{
 "cells": [
  {
   "cell_type": "code",
   "execution_count": 1,
   "id": "8c3ddb55-2638-43dd-9269-5c20f50cae1a",
   "metadata": {},
   "outputs": [],
   "source": [
    "import pandas as pd"
   ]
  },
  {
   "cell_type": "code",
   "execution_count": 2,
   "id": "817330dc-3e77-4e9e-ad8b-b6e4eb0398f1",
   "metadata": {},
   "outputs": [],
   "source": [
    "from bs4 import BeautifulSoup as bs"
   ]
  },
  {
   "cell_type": "code",
   "execution_count": 3,
   "id": "314c3f52-81aa-405d-8af3-7a7cc262209c",
   "metadata": {},
   "outputs": [],
   "source": [
    "import requests"
   ]
  },
  {
   "cell_type": "code",
   "execution_count": 4,
   "id": "4bfe3f6d-385a-436c-bdb3-dc5d4dfb4ec4",
   "metadata": {},
   "outputs": [],
   "source": [
    "url = \"https://stats.espncricinfo.com/ci/engine/records/team/match_results.html?id=14450;type=tournament\""
   ]
  },
  {
   "cell_type": "code",
   "execution_count": 5,
   "id": "9edf10b5-95c1-4ccf-bd74-695c98172f7c",
   "metadata": {},
   "outputs": [],
   "source": [
    "page = requests.get(url)"
   ]
  },
  {
   "cell_type": "code",
   "execution_count": 6,
   "id": "20c79cd4-5d6b-4e91-9796-66fe2e837c76",
   "metadata": {},
   "outputs": [],
   "source": [
    "soup = bs(page.text, 'html')"
   ]
  },
  {
   "cell_type": "code",
   "execution_count": 8,
   "id": "3e68a4b8-332d-4727-b49d-c9cb8db2c30d",
   "metadata": {},
   "outputs": [],
   "source": [
    "# getting match results table (all rows)\n",
    "match_results = soup.table.tbody.find_all('tr')"
   ]
  },
  {
   "cell_type": "code",
   "execution_count": 9,
   "id": "8bd4dfa3-f5c0-4ec6-8403-3c419984d6db",
   "metadata": {},
   "outputs": [],
   "source": [
    "batting_column = ['match', 'team', 'batting_Pos', 'batsman', 'out/not out', 'run', 'ball','m','fours', 'sixes', 'strike_rate']\n",
    "bolling_column = [ 'match', 'bowlingTeam', 'bowler', 'overs', 'maiden', 'runs', 'wicktes', 'economy', 'zeros', 'fours', 'sixex', 'wides', 'noBalls']\n",
    "df1 = pd.DataFrame( columns = batting_column )\n",
    "df2 = pd.DataFrame( columns = bolling_column )"
   ]
  },
  {
   "cell_type": "code",
   "execution_count": 12,
   "id": "61b308a5-5d40-44f6-ba5a-29623bd323a2",
   "metadata": {},
   "outputs": [],
   "source": [
    "def batting_summary (table, match, team, df1) :\n",
    "    table = table.tbody.find_all('tr')\n",
    "    # for batting postion\n",
    "    index = 1\n",
    "    for row in table :\n",
    "        row = row.find_all('td')\n",
    "        rowi = [match, team, index] + [cell.text.strip() for cell in row]\n",
    "        \n",
    "        length = len(df1)\n",
    "        if len(rowi) >= 8:\n",
    "            index += 1\n",
    "            df1.loc[length] = rowi    "
   ]
  },
  {
   "cell_type": "code",
   "execution_count": 13,
   "id": "16937c4b-4344-4de8-8497-938dcf7afb69",
   "metadata": {},
   "outputs": [],
   "source": [
    "def balling_summary (table, match, team, df2) :\n",
    "    # collect all rows of table\n",
    "    table = table.tbody.find_all('tr')\n",
    "\n",
    "    # traverse each row \n",
    "    for row in table :\n",
    "        # from each row fetch all cells\n",
    "        row = row.find_all('td')\n",
    "        # add match and team name along with fetched cells to rowi\n",
    "        rowi = [match, team] + [cell.text.strip() for cell in row]\n",
    "        \n",
    "        length = len(df2)\n",
    "        if len(rowi) >= 8:\n",
    "            df2.loc[length] = rowi  \n",
    "    "
   ]
  },
  {
   "cell_type": "code",
   "execution_count": 24,
   "id": "70441af3-f93b-4f42-b173-64f16c3bee9c",
   "metadata": {},
   "outputs": [],
   "source": [
    "def crawler ( link, df1, df2 ) :\n",
    "    # getting resoponse from match summary site\n",
    "    link_response = requests.get(link)\n",
    "    link_soup = bs(link_response.text, 'html')\n",
    "\n",
    "    # fetch team names\n",
    "    team1 = link_soup.find('div', class_=[ 'ds-mt-3']).find_all('span')[0].text\n",
    "    team2 = link_soup.find('div', class_=[ 'ds-mt-3']).find_all('span')[2].text\n",
    "\n",
    "    match = team1 + ' Vs ' + team2\n",
    "\n",
    "    # batting table for team 1\n",
    "    table1 = link_soup.find_all('table')[0]\n",
    "    # balling table for team 1\n",
    "    table2 = link_soup.find_all('table')[1]\n",
    "    # batting table for team 2\n",
    "    table3 = link_soup.find_all('table')[2]\n",
    "    # batting table for team 2\n",
    "    table4 = link_soup.find_all('table')[3]\n",
    "\n",
    "    # pass table1 and table3 to fetch betting details\n",
    "    batting_summary (table1, match, team1, df1)\n",
    "    batting_summary (table3, match, team2, df1)\n",
    "\n",
    "    # pass tab2, tab4 to fetch balling details/summary\n",
    "    balling_summary (table2, match, team1, df2)\n",
    "    balling_summary (table4, match, team2, df2)"
   ]
  },
  {
   "cell_type": "code",
   "execution_count": 26,
   "id": "1b9dda69-f050-4d08-961f-a53fd17c38c1",
   "metadata": {},
   "outputs": [],
   "source": [
    "# Trversseing each row of match results and taking last cell from each row\n",
    "\n",
    "for row in match_results:\n",
    "    # fetch last cell from row\n",
    "    row_data = row.find_all('td')[-1]\n",
    "    # fetch link from that cell \n",
    "    link = 'https://www.espncricinfo.com' + row_data.find('a').get('href')\n",
    "    # pass fetched link to crawler along with df1, df2\n",
    "    crawler (link, df1, df2)\n",
    "    "
   ]
  },
  {
   "cell_type": "code",
   "execution_count": null,
   "id": "8bbe76a7-17e1-4904-90da-32c49df9e555",
   "metadata": {},
   "outputs": [],
   "source": [
    "## below code is for creating csv "
   ]
  },
  {
   "cell_type": "code",
   "execution_count": 22,
   "id": "f941911d-c20e-4c8c-9abc-ef7d6fba38e5",
   "metadata": {},
   "outputs": [],
   "source": [
    "# df1.to_csv(r\"C:\\Users\\praja\\Downloads\\shooting-range-master\\Projects\\T20_2022_players_analysis\\web_scrapping/batting_summary.csv\")"
   ]
  },
  {
   "cell_type": "code",
   "execution_count": 23,
   "id": "0685453a-6036-4514-9f99-9957b66be4fa",
   "metadata": {},
   "outputs": [],
   "source": [
    "# df2.to_csv(r\"C:\\Users\\praja\\Downloads\\shooting-range-master\\Projects\\T20_2022_players_analysis\\web_scrapping/balling_summary.csv\")"
   ]
  },
  {
   "cell_type": "code",
   "execution_count": null,
   "id": "fe43cad2-a83c-4b72-9759-2c10f0a1946a",
   "metadata": {},
   "outputs": [],
   "source": []
  }
 ],
 "metadata": {
  "kernelspec": {
   "display_name": "Python 3 (ipykernel)",
   "language": "python",
   "name": "python3"
  },
  "language_info": {
   "codemirror_mode": {
    "name": "ipython",
    "version": 3
   },
   "file_extension": ".py",
   "mimetype": "text/x-python",
   "name": "python",
   "nbconvert_exporter": "python",
   "pygments_lexer": "ipython3",
   "version": "3.10.11"
  }
 },
 "nbformat": 4,
 "nbformat_minor": 5
}
